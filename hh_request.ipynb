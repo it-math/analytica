{
  "nbformat": 4,
  "nbformat_minor": 0,
  "metadata": {
    "colab": {
      "provenance": [],
      "authorship_tag": "ABX9TyNxgyYgOAGhrv7p7mvcopxa",
      "include_colab_link": true
    },
    "kernelspec": {
      "name": "python3",
      "display_name": "Python 3"
    },
    "language_info": {
      "name": "python"
    }
  },
  "cells": [
    {
      "cell_type": "markdown",
      "metadata": {
        "id": "view-in-github",
        "colab_type": "text"
      },
      "source": [
        "<a href=\"https://colab.research.google.com/github/it-math/analytica/blob/main/hh_request.ipynb\" target=\"_parent\"><img src=\"https://colab.research.google.com/assets/colab-badge.svg\" alt=\"Open In Colab\"/></a>"
      ]
    },
    {
      "cell_type": "code",
      "execution_count": null,
      "metadata": {
        "id": "rCqQWWk4gtYw"
      },
      "outputs": [],
      "source": [
        "import requests\n",
        "import pandas as pd\n",
        "import time"
      ]
    },
    {
      "cell_type": "code",
      "source": [
        "# Расширенный список ключевых слов для поиска IT-вакансий\n",
        "SEARCH_TERMS = [\n",
        "    # Программирование и разработка\n",
        "    \"программист\", \"разработчик\", \"developer\", \"backend\", \"frontend\",\n",
        "    \"fullstack\", \"web разработчик\", \"mobile разработчик\", \"iOS разработчик\",\n",
        "    \"Android разработчик\", \"C++\", \"Python\", \"Java\", \"JavaScript\", \"React\",\n",
        "    \"Node.js\", \"Django\", \"Flask\", \"Vue\", \"Angular\", \"PHP\", \"Rust\", \"Go\", \"Haskell\",\n",
        "    \"Prolog\", \"Lisp\", \"Swift\", \"Ruby\", \"C#\", \"Fortran\", \"Delphi\", \"R\", \"Matlab\", \"1C\",\n",
        "    \"Wordpress\", \"Tilda\", \"Joomla\", \"Git\", \"GIT\", \"HTML\", \"CSS\", \"Kotlin\", \"SQL\", \"сеньор\", \"миддл\",\n",
        "    \"стажер\", \"математик\", \"администратор информационных систем\", \"web-разработчик\", \"оператор ПК\",\n",
        "\n",
        "\n",
        "    # Тестирование\n",
        "    \"тестировщик\", \"QA\", \"quality assurance\", \"автотесты\", \"ручное тестирование\",\n",
        "    \"Selenium\", \"Postman\", \"JMeter\", \"API тестирование\",\n",
        "\n",
        "    # Анализ данных и машинное обучение\n",
        "    \"data scientist\", \"аналитик\", \"machine learning\", \"ML\", \"исследователь данных\", \"NLP\",\n",
        "    \"big data\", \"статистика\", \"Pandas\", \"NumPy\", \"TensorFlow\", \"PyTorch\", \"DS\", \"продуктовый аналитик\",\n",
        "\n",
        "    # DevOps и системное администрирование\n",
        "    \"DevOps\", \"системный администратор\", \"инженер devops\", \"Linux\", \"Docker\",\n",
        "    \"Kubernetes\", \"CI/CD\", \"Ansible\", \"облачные технологии\", \"AWS\", \"Azure\",\n",
        "\n",
        "    # Безопасность\n",
        "    \"информация безопасность\", \"кибербезопасность\", \"pentester\", \"security engineer\",\n",
        "    \"ethical hacker\", \"аудит безопасности\",\n",
        "\n",
        "    # Менеджмент и управление проектами\n",
        "    \"product manager\", \"менеджер продукта\", \"project manager\", \"руководитель проекта\",\n",
        "    \"Agile\", \"Scrum\", \"Kanban\", \"Jira\", \"Project-manager\", \"IT\", \"ИС\",\n",
        "\n",
        "    # Поддержка и техническая документация\n",
        "    \"технический писатель\", \"support\", \"поддержка\", \"helpdesk\", \"специалист техподдержки\",\n",
        "\n",
        "    # Архитектура ПО\n",
        "    \"software architect\", \"архитектор\", \"solution architect\", \"проектирование систем\"\n",
        "]"
      ],
      "metadata": {
        "id": "mDz7hDBsgzgp"
      },
      "execution_count": null,
      "outputs": []
    },
    {
      "cell_type": "code",
      "source": [
        "# Настройки\n",
        "AREA = 113         # Россия\n",
        "PER_PAGE = 100     # Вакансий на запрос\n",
        "DELAY = 5          # Задержка между запросами\n",
        "CSV_FILENAME = \"it_vacancies_full.csv\""
      ],
      "metadata": {
        "id": "azhBNAHOg3_L"
      },
      "execution_count": null,
      "outputs": []
    },
    {
      "cell_type": "code",
      "source": [
        "def get_vacancies(keyword, area=AREA, per_page=PER_PAGE):\n",
        "    url = \"https://api.hh.ru/vacancies\"\n",
        "    params = {\n",
        "        \"text\": keyword.strip(),\n",
        "        \"area\": area,\n",
        "        \"per_page\": per_page,\n",
        "        \"search_field\": \"name\"\n",
        "    }\n",
        "\n",
        "    headers = {\n",
        "        \"User-Agent\": \"Mozilla/5.0\",\n",
        "        \"HH-User-Agent\": \"MyVacancyAnalyzerApp/1.0\"\n",
        "    }\n",
        "\n",
        "    print(f\"Ищем: '{keyword}'\")\n",
        "    try:\n",
        "        response = requests.get(url, params=params, headers=headers, timeout=10)\n",
        "    except requests.exceptions.RequestException as e:\n",
        "        print(f\"Ошибка подключения при запросе '{keyword}': {e}\")\n",
        "        return pd.DataFrame()\n",
        "\n",
        "    if response.status_code != 200:\n",
        "        print(f\"Ошибка для '{keyword}': {response.status_code}\")\n",
        "        print(\"Текст ответа:\", response.text)\n",
        "        return pd.DataFrame()\n",
        "\n",
        "    data = response.json()\n",
        "    items = data.get(\"items\", [])\n",
        "\n",
        "    if not items:\n",
        "        print(f\"Нет вакансий по запросу '{keyword}'\")\n",
        "        return pd.DataFrame()\n",
        "\n",
        "    vacancies = []\n",
        "    for item in items:\n",
        "        salary = item.get(\"salary\")\n",
        "        salary_from = salary[\"from\"] if salary and \"from\" in salary else None\n",
        "        salary_to = salary[\"to\"] if salary and \"to\" in salary else None\n",
        "\n",
        "        key_skills = [skill[\"name\"] for skill in item.get(\"key_skills\", [])]\n",
        "        prof_role = [role[\"name\"] for role in item.get(\"professional_roles\",\"\")]\n",
        "        d = item.get(\"snippet\",\"\")\n",
        "        requirement = d[\"requirement\"]\n",
        "        if requirement:\n",
        "            requirement = requirement.replace('<highlighttext>',' ')\n",
        "            requirement = requirement.replace('</highlighttext>',' ')\n",
        "        responsibility = d[\"responsibility\"]\n",
        "        if responsibility:\n",
        "            responsibility = responsibility.replace('<highlighttext>',' ')\n",
        "            responsibility = responsibility.replace('</highlighttext>',' ')\n",
        "        vacancies.append({\n",
        "            \"name\": item[\"name\"],\n",
        "            \"company\": item[\"employer\"][\"name\"],\n",
        "            \"city\": item[\"area\"][\"name\"],\n",
        "            \"experience\": item[\"experience\"][\"name\"],\n",
        "            \"url\": item[\"alternate_url\"],\n",
        "            \"salary_from\": salary_from,\n",
        "            \"salary_to\": salary_to,\n",
        "            \"key_skills\": \", \".join(key_skills),\n",
        "            \"search_term\": keyword,\n",
        "            \"prof_role\": prof_role,\n",
        "            \"requirement\":requirement,\n",
        "            \"responsibility\":responsibility\n",
        "\n",
        "        })\n",
        "\n",
        "    df = pd.DataFrame(vacancies)\n",
        "    print(f\"Найдено {len(df)} вакансий по запросу '{keyword}'\")\n",
        "    return df"
      ],
      "metadata": {
        "id": "uC3vC_H4hEU6"
      },
      "execution_count": null,
      "outputs": []
    },
    {
      "cell_type": "code",
      "source": [
        "def collect_all_vacancies():\n",
        "    all_vacancies = []\n",
        "\n",
        "    for term in SEARCH_TERMS:\n",
        "        df = get_vacancies(term, per_page=PER_PAGE)\n",
        "        if not df.empty:\n",
        "            all_vacancies.append(df)\n",
        "        time.sleep(DELAY)\n",
        "\n",
        "    if not all_vacancies:\n",
        "        print(\"Не найдено ни одной вакансии.\")\n",
        "        return pd.DataFrame()\n",
        "\n",
        "    full_df = pd.concat(all_vacancies, ignore_index=True)\n",
        "    full_df.drop_duplicates(subset=[\"url\"], keep=\"first\", inplace=True)\n",
        "\n",
        "    print(f\"\\n Всего уникальных вакансий: {len(full_df)}\")\n",
        "    full_df.to_csv(CSV_FILENAME, index=False, encoding=\"utf-8-sig\")\n",
        "    print(f\" Все вакансии сохранены в файл: {CSV_FILENAME}\")\n",
        "\n",
        "    return full_df"
      ],
      "metadata": {
        "id": "j92jhHBJhMd2"
      },
      "execution_count": null,
      "outputs": []
    },
    {
      "cell_type": "code",
      "source": [
        "if __name__ == \"__main__\":\n",
        "    print(\"Мастер-класс: Сбор и анализ IT-вакансий с hh.ru (через API)\\n\")\n",
        "    df = collect_all_vacancies()\n",
        "\n",
        "    if not df.empty:\n",
        "        print(\"\\n Пример первых 10 вакансий:\")\n",
        "        print(df[[\"name\", \"company\", \"city\", \"salary_from\", \"salary_to\", \"key_skills\", \"prof_role\", \"requirement\",\"responsibility\" ]].head())\n",
        "    else:\n",
        "        print(\"Ни одна вакансия не найдена.\")\n",
        "\n"
      ],
      "metadata": {
        "id": "PZqklGskhVji"
      },
      "execution_count": null,
      "outputs": []
    }
  ]
}