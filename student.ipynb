{
  "nbformat": 4,
  "nbformat_minor": 0,
  "metadata": {
    "colab": {
      "provenance": [],
      "authorship_tag": "ABX9TyNHCeWU/1deOoAp8Mtzp6s/",
      "include_colab_link": true
    },
    "kernelspec": {
      "name": "python3",
      "display_name": "Python 3"
    },
    "language_info": {
      "name": "python"
    }
  },
  "cells": [
    {
      "cell_type": "markdown",
      "metadata": {
        "id": "view-in-github",
        "colab_type": "text"
      },
      "source": [
        "<a href=\"https://colab.research.google.com/github/it-math/analytica/blob/main/student.ipynb\" target=\"_parent\"><img src=\"https://colab.research.google.com/assets/colab-badge.svg\" alt=\"Open In Colab\"/></a>"
      ]
    },
    {
      "cell_type": "markdown",
      "source": [
        "students-grading-dataset\n",
        "https://it-math.ru/wp-content/uploads/res_new.csv\n"
      ],
      "metadata": {
        "id": "w4nRGDHiiqWB"
      }
    },
    {
      "cell_type": "code",
      "execution_count": null,
      "metadata": {
        "id": "_CX6iBoTiRf3"
      },
      "outputs": [],
      "source": [
        "import pandas as pd                # манипуляция данными и анализ\n",
        "import numpy as np                 # для численных расчетов\n",
        "import matplotlib.pyplot as plt    # создание статических визуализаций\n",
        "import seaborn as sns              # расширенная визуализация\n",
        "import plotly.express as px        # интерактивные визуализации\n",
        "\n",
        "# Configure default style for plots\n",
        "sns.set_style(\"whitegrid\")\n"
      ]
    },
    {
      "cell_type": "code",
      "source": [
        "file_path = \"https://it-math.ru/wp-content/uploads/res_new.csv\"\n",
        "df = pd.read_csv(file_path,sep=';')"
      ],
      "metadata": {
        "id": "aN4q5pX9lHpO"
      },
      "execution_count": null,
      "outputs": []
    },
    {
      "cell_type": "code",
      "source": [
        "df.info()"
      ],
      "metadata": {
        "id": "m8S6aU3dlavj"
      },
      "execution_count": null,
      "outputs": []
    },
    {
      "cell_type": "code",
      "source": [
        "df.head()"
      ],
      "metadata": {
        "id": "ihfDX1B_lYUU"
      },
      "execution_count": null,
      "outputs": []
    },
    {
      "cell_type": "code",
      "source": [
        "df.shape"
      ],
      "metadata": {
        "id": "taSQzpJcnaDK"
      },
      "execution_count": null,
      "outputs": []
    },
    {
      "cell_type": "code",
      "source": [
        "df['Имя'].unique()"
      ],
      "metadata": {
        "id": "T5ZUBINvn0Qf"
      },
      "execution_count": null,
      "outputs": []
    },
    {
      "cell_type": "code",
      "source": [
        "for index, row in df.iterrows():\n",
        "    if row['Имя'] in ('Иван', 'Даниил', 'Михаил', 'Артем','Александр'):\n",
        "        df.loc[index, 'Пол'] = 'М'\n",
        "    else:\n",
        "        df.loc[index, 'Пол'] = 'Ж'"
      ],
      "metadata": {
        "id": "dVsDEJEon__d"
      },
      "execution_count": null,
      "outputs": []
    },
    {
      "cell_type": "code",
      "source": [
        "df"
      ],
      "metadata": {
        "id": "6vrE5JDVoloi"
      },
      "execution_count": null,
      "outputs": []
    },
    {
      "cell_type": "code",
      "source": [
        "df=df.drop(columns='ID',axis=1)\n",
        "df=df.drop(columns='Email',axis=1)"
      ],
      "metadata": {
        "id": "_HawlIFgpPIo"
      },
      "execution_count": null,
      "outputs": []
    },
    {
      "cell_type": "code",
      "source": [
        "df"
      ],
      "metadata": {
        "id": "5xfQFwEMpTx0"
      },
      "execution_count": null,
      "outputs": []
    },
    {
      "cell_type": "code",
      "source": [
        "df.describe()"
      ],
      "metadata": {
        "id": "b7ujPssepkm5"
      },
      "execution_count": null,
      "outputs": []
    },
    {
      "cell_type": "code",
      "source": [
        "df.isnull().sum()"
      ],
      "metadata": {
        "id": "mRG5Qf8_pqYb"
      },
      "execution_count": null,
      "outputs": []
    },
    {
      "cell_type": "code",
      "source": [
        "new_columns = ['name', 'fam', 'gender',\t'age', 'dep', 'attendance', 'exam', 'final', 'avg', 'test', 'class', 'project', 'total', 'grade', 'study_hours',\n",
        "              'active', 'internet', 'parent_edu', 'income', 'stress', 'sleep']\n",
        "df.columns = new_columns"
      ],
      "metadata": {
        "id": "xgC9LET-rW7m"
      },
      "execution_count": null,
      "outputs": []
    },
    {
      "cell_type": "code",
      "source": [
        "df"
      ],
      "metadata": {
        "id": "nhNZ5gers5Dv"
      },
      "execution_count": null,
      "outputs": []
    },
    {
      "cell_type": "code",
      "source": [
        "#df['avg'] = df['avg'].fillna(df['avg'].median())\n",
        "df[\"avg\"] = df[\"avg\"].fillna(0)"
      ],
      "metadata": {
        "id": "vcKraYklu3TH"
      },
      "execution_count": null,
      "outputs": []
    },
    {
      "cell_type": "code",
      "source": [
        "df"
      ],
      "metadata": {
        "id": "zYs-LdCmvTjR"
      },
      "execution_count": null,
      "outputs": []
    },
    {
      "cell_type": "markdown",
      "source": [
        "Пропуски"
      ],
      "metadata": {
        "id": "YK4poUpOZj8d"
      }
    },
    {
      "cell_type": "code",
      "source": [
        "plt.figure(figsize=(10,5))\n",
        "sns.barplot(x=df[\"dep\"], y=df[\"attendance\"].isnull(), hue=df[\"gender\"])\n",
        "plt.show()"
      ],
      "metadata": {
        "id": "wsD_6Lj8p2io"
      },
      "execution_count": null,
      "outputs": []
    },
    {
      "cell_type": "code",
      "source": [
        "df['parent_edu']=df['parent_edu'].fillna('Unknown')\n",
        "df['attendance']=df['attendance'].fillna (df['attendance'].median())"
      ],
      "metadata": {
        "id": "DpwohAkBvquJ"
      },
      "execution_count": null,
      "outputs": []
    },
    {
      "cell_type": "code",
      "source": [
        "df"
      ],
      "metadata": {
        "id": "HtErNuIYwIHG"
      },
      "execution_count": null,
      "outputs": []
    },
    {
      "cell_type": "markdown",
      "source": [
        "**Пересчитаем окончательный балл:**"
      ],
      "metadata": {
        "id": "ZgyOBO2tQJnO"
      }
    },
    {
      "cell_type": "code",
      "source": [
        "weights = {\n",
        "    \"attendance\": 0.05,\n",
        "    \"exam\": 0.15,\n",
        "    \"final\": 0.30,\n",
        "    \"avg\": 0.15,\n",
        "    \"test\": 0.10,\n",
        "    \"class\": 0.05,\n",
        "    \"project\": 0.20\n",
        "}\n",
        "df['total'] = (\n",
        "    df['attendance'] * weights['attendance'] +\n",
        "    df[\"exam\"] * weights[\"exam\"] +\n",
        "    df[\"final\"] * weights[\"final\"] +\n",
        "    df[\"avg\"] * weights[\"avg\"] +\n",
        "    df[\"test\"] * weights[\"test\"] +\n",
        "    df[\"class\"] * weights[\"class\"] +\n",
        "    df[\"project\"] * weights[\"project\"]\n",
        ")"
      ],
      "metadata": {
        "id": "HJvtxZswqYcT"
      },
      "execution_count": null,
      "outputs": []
    },
    {
      "cell_type": "code",
      "source": [
        "df"
      ],
      "metadata": {
        "id": "W26afNZdt0Rc"
      },
      "execution_count": null,
      "outputs": []
    },
    {
      "cell_type": "markdown",
      "source": [
        "Пересчет оценки по системе:\n",
        "\n",
        "![image.png](data:image/png;base64,iVBORw0KGgoAAAANSUhEUgAAAJ4AAACTCAIAAADweTfyAAAMdklEQVR4Ae2dX47jLAzA9yp9n2tUc5xK896DjHqVlXqV1VwkKxswBgyhhDSEcR++SfhjbP8w0I3z9c+in0k98GdSu9SsRdFOOwkUraKd1gPTGqZRq2in9cC0hmnUKtodPPD8urjP9fFvhwFI5N+bG+hy/f6hYnPxPjWigXe+PTBqn97fF8HjvQz/+b5eLjR1YFBOF7h+PgztsGWv8Q+TcxxaFkkQUs6/vT0BLG9/mVQY9/Y0Bf8eV099WZafx+fl8mUrWZ9TXh6G1i6Dn4+HXZYpsLr6EUBGkj1sCNNwSmHgOvBekectFuLrhr1qR3u/3z/wc7/fXzfPrcZfz8WFL18nXxeY6ZFBi2NJMSq0X5blN6G93+90MLlcLi/TdThxqXSYwwDKsBKKn19RXLI2sOSGCzKWENp4PsVLtBH1m9B+fHxwtB8fH8yd65fuUGqXPnebJ1QWKfOwfVA4Sf55fF6vn+YkBVEroQ2nAohRtGUAVItxAzODDiwuiGNHp134hIqviR91sxdu6lxw3yWidMHas1mC+248Bty3ri5smHdcNu61WxbkrMuavcZ4VPiMjlG612a81XqMQodKwYBl2cjLaAHFpb027QYrBNsIwhDUE3LqsOoSWo0FnwLc7JpcPUKxYRip8Xk4rPWCftNe661+8YpW4xhhBvmL4oXmzy//PRU3XX9r/43CTbJMyP6yY5TgwqoiWo3ThbdQVSU614idodjBzbemcS+0UPvKM181HqPObPJv0V3RTkta0SraaT0wrWEatYp2Wg9Ma5hGraKd1gPTGqZRq2in9cC0hmnUKtppPTCtYRq1inZaD0xrmEatou3ngeABKmXSUApcv4GsJHrIL6RwuDzZ6rQsSiVIMteXhQ3kM/q6m1Mt8IColdFWO7faNGyI7nYZHQjSzyG4dVX4QN6lW+SGQK4uiQCzMP0rJ8EtSvMD5eTtW34gWucjyPI1HyrpZjNMIw6MJUMBJ16Fk8CjElTgUwGqmXBg6WYJ9gRp/c0RlMoXjYAWfYQpb71fxUyix3s8gbH6LlfC3k+OpMpkXQWw8wx2qmlH25qsmoBEvwDZHVYwFljoQIhaTHsTYPAoFL0tRa3RWZCWzCpR5J6FjWi3pJiLe21xJSw5YCUJGZ3uooexgfJ4wfRRmBkw2WtJApNs+0LJHpM1o5pQ3Ih2yzs/Itr2qJUgBYYiXbuZ0yvxUi8kx1NZAzHmBttYYXz7MOU0QZ9f8GbRr0VLUx7XLnSXC6/Qp4yNcar0X5IW9I1o4ayiBTnuAo3NwQqPuzSK0ypaY+O4ZNThhTAYa4ctJjCveNMYtT0WZOZZcmWDL6T4sybjnKBIwkK3cgpVK3ttNEtAGjtvJ05Oj2lJk50LGtEuy9LtGGV9hEHyOtrSXiu53gWTY+z9GwWlrzBX0JF/WYJSEBJOHderMOFck73/tqNt1gxXRfM+pJGxtiA3jySEpicaoxIaBwO/FLWx8EDSm24OREt7GV2sHGEaXILTyIvFW7cRIMvMPioOBdOCbZ946+L45/tGpyqcBG4UUdJbCodB+/pSXOkffrqJV1Ska2dWlQJ+gYleKiyNUqlo72YHoO1tgsqTPaBoZb9MUKpoJ4Aom6BoZb9MUKpoJ4Aom6BoZb9MUKpoJ4Aom6BoZb9MUKpoJ4Aom6BoZb9MUKpoJ4Aom6BoZb9MUKpoJ4Aom6BoZb9MUKpoJ4Aom3Ak2uAZJz41lZNRZM1XS4Nnq/S4P3hX54XntRXSKMPLv2+yquSODQ5Cy33KvN4VreA1yLKgR+6ogxsxyqAQ+qZFXFqYWeHTdNJebys5Ai3j6vJXwN6f76tz9D7mh1lwHAyMF9auaxC0B5aB8lDrE3fWpe3Q4v1o/coW+GIH2yKRIcsEBqYn8qkWdY9uA2kBZtMwlR8J2P22HW1jsiqFrEsY291EM0Cw/IoxinOOluuyWuvSjl+TG9G2p5jDBMdPpRPLLl6et7opAkHGW0oLZhCIxXFjaRHpxb5GXb8GFEdrrGxE2/zOD52Ke5kNAjkz2Q/J8phDuy5KziwH2P79MP5rQrJCbyg9AVqaDewonVyWkaQg0xLzKjSuJdGI8ZlA6mvfpLZ6XR//YHnvNX3b5kEj2g4LchlGtTUVUSttooAnygKXmglqVDZL1glB1L5FjWg3vPMDNptPHA0tltbstZKX092x9oQsSUs1z0R22nC/kna0zTrx5Y7T3et7rezlJPiEOJZMlKVFLRPhUf1bbg9AG25LLoTxLyfdy/z4NEtyARL9OwPEYs3WmJNW/DUhGvKtF8egRRP9yuzw7vHPN8UAQrpm9BquhZ+lxhOys6PP97qt8+BAtFtV1/5lDyjasn9OXKtoTwyvrLqiLfvnxLWK9sTwyqor2rJ/TlyraE8Mr6y6oi3758S1ivbE8MqqK9qyf05cq2hPDK+suqIt++fEtYr2xPDKqivasn9OXKtoTwyvrPoBaINHm+4R5xty7fm4wdNZTKaxilQ/as1Ke/kZcBlQe+04aNG31Z590WJ8IC8m2gVJUpgdsK5DVhrmBlE2XW3mxou21DY/EC25wOTy27AJ4qnWipV2EGEiV5agakVAzDHFJMF5acAyyAECaXukjkhqJWVjoOX/I/P+vkg87r2QVq2GWtrFiROmRb6x67Tf33a0je/8mECBEI2CA1c5DN1g4m83vRA6AoxiLpWdgplAFKStTpTt5mUlNKJtTzHPoqWfdqrKLAwNKmUj2xx08awkUYf1Nr/dlqQF2zYqiCV7bDGh+fJdI9rmd35YpmoUtfB+rdlvG3xhPS7ZaI+ytNcaxgZeDi01TgSWpNlZS3Yd/ObPQGit16KTiHMugbfHLfGPhATFkrtBHIrCkhxaBB+NaLaJkjRUlazAHQeW94aZ6oze9LcR7Q4LMu21AYZK41aiNkJOK6ewO67stUAuJ03QVY9R/IQcOU7wV1q0ttdGp25AixOIGHuRKwcfDOXwGEXSvBB3Ja0Krm73v41Ru0Uvt2T56GRLny/cMkTQN+HH8CQxKsRxIMz8tDQ/wzNpYcvVX02Nmve+PRCtsFtyl3W0NPA+kvb7H7Ckf2dYCVmjUkHaUG/+DIM2/32jC2PkYSdTPIGQrqnzyIuj5qS5BQmF7WxRUUGoPADtqk7aoIsHFG0XN44oRNGOSKWLToq2ixtHFKJoR6TSRSdF28WNIwpRtCNS6aKTou3ixhGFKNoRqXTRSdF2ceOIQhTtiFS66KRou7hxRCGKdkQqXXRStF3cOKIQRRtTEVJk4ibnuD8AbfBQk57Hd366SZlWboDqvJw3ocWMAKccz8iBdAD7qdZZnGtTo/XTBf1V56l3oA1SOzgXnuaBs7NOZy6Crg9Eu0MaFJmV5iWtJj25vrujTXK13MiYRctZ5ltSl8KFoo2dszdaSL7h/Pz4EKZhBk+Slecbr1+1o+39zs+6rq+0iJ0S5KqhIJ7fxB2aoEVRbvvz74zEywA248ygAd9EjfrQjA/njZJiNFHGN1+9akS7Q4r5qqpxg+dXYUkP0SZeA5eR37GW3B14E6s8Tvx9AhdzfF+0vxDD31EDOX6zJ+Wh1+2vf8HJd4GxYovyIU4CsxeNaHu880OBkL61l1U3qJB84RqEoXYJvYzAeF4jj2mOVsDD+vKW8JN8n7fbZ5D3yoewimF3lh5rGCNRyRyumDOt9u/YaJ0j+CxIruOZjqaHURu+aCWEAltdGTAbYaEvmWS25D6/YJn1U0HiBHKMRUE0wygQ31IXQdVQm8JdI9oRFmTRF85UBsAW+RIAIHzsFPFoEUMSeV7OguszNnjezFrqYGeRSDLtiIUqZ9VLfxvRbvidH9pmxGh7QfkX9lqUSiGV9Ts1s6ehtailr1iwGj9+oLthDPhp8w5NAplRlVMsreLTKBRTcdeOtkK43AQsgc9WtLJ0W5o6hZWw5TcVYmMIKlgXahfGlpklD1yNsQl0uX4/bBBTL3bB5JtSTzSuCsdiMqoufwtanE80mZAZnZBxC7x9Y9SZXZm+w6Bz2UEXMLBbs3der58k2fyzw/VKEgQKnqV7kdx9R8LhXExLE0uQli2aGi3fUBNfI2xq4ZwboQW/IU7X0PmdHIoAuPB4NlBLfsFk8r50zjLDBact3r3q+gC0VXppo80eULSbXTiqAEU7KpnNeinazS4cVYCiHZXMZr0U7WYXjipA0Y5KZrNeinazC0cVoGhHJbNZL0W72YWjClC0o5LZrJei3ezCUQUo2lHJbNZL0W524agC/gMJDDJANs7ORAAAAABJRU5ErkJggg==)"
      ],
      "metadata": {
        "id": "HkmiaNWPwUa1"
      }
    },
    {
      "cell_type": "code",
      "source": [
        "def assign_grade(total_score):\n",
        "    if total_score < 50.0:\n",
        "        return 'F'\n",
        "    elif 50.0 <= total_score < 60.0:\n",
        "        return 'D'\n",
        "    elif 60.0 <= total_score < 70.0:\n",
        "        return 'C'\n",
        "    elif 70.0 <= total_score < 80.0:\n",
        "        return 'B'\n",
        "    else:\n",
        "        return 'A'\n",
        "\n",
        "df['grade'] = df['total'].apply(assign_grade)"
      ],
      "metadata": {
        "id": "M6pBPobOwPzG"
      },
      "execution_count": null,
      "outputs": []
    },
    {
      "cell_type": "code",
      "source": [
        "df"
      ],
      "metadata": {
        "id": "38hWLHPpwmHi"
      },
      "execution_count": null,
      "outputs": []
    },
    {
      "cell_type": "code",
      "source": [
        "fig, axes = plt.subplots(1, 2, figsize=(18, 6))\n",
        "\n",
        "sns.countplot(x=\"dep\", data=df, palette=\"coolwarm\", ax=axes[0])\n",
        "axes[0].set_xticklabels(axes[0].get_xticklabels(), rotation=45)\n",
        "axes[0].set_title(\"Распределение по факультетам\")\n",
        "\n",
        "# Distribution of Extracurricular Participation\n",
        "sns.countplot(x=\"active\", data=df, palette=\"pastel\", ax=axes[1])\n",
        "axes[1].set_title(\"Распределение по внеклассным занятиям\")\n",
        "\n",
        "plt.tight_layout()\n",
        "plt.show()"
      ],
      "metadata": {
        "id": "9VS1o-Uq0zbh"
      },
      "execution_count": null,
      "outputs": []
    },
    {
      "cell_type": "markdown",
      "source": [
        "**Распределение по полу и возрасту**"
      ],
      "metadata": {
        "id": "PNQlcyyeN6xw"
      }
    },
    {
      "cell_type": "code",
      "source": [
        "gender_counts = df[\"gender\"].value_counts()\n",
        "print(gender_counts)"
      ],
      "metadata": {
        "id": "U6VwecLeOAsc"
      },
      "execution_count": null,
      "outputs": []
    },
    {
      "cell_type": "code",
      "source": [
        "age_counts = df[\"age\"].value_counts()\n",
        "print(age_counts)"
      ],
      "metadata": {
        "id": "gRJfuNnOOb5V"
      },
      "execution_count": null,
      "outputs": []
    },
    {
      "cell_type": "code",
      "source": [
        "dep_counts = df[\"dep\"].value_counts()\n",
        "print(dep_counts)"
      ],
      "metadata": {
        "id": "mzciqf0rOjTD"
      },
      "execution_count": null,
      "outputs": []
    },
    {
      "cell_type": "code",
      "source": [
        "fig, axes = plt.subplots(1, 2, figsize=(12, 4))\n",
        "\n",
        "colors = sns.color_palette(\"pastel\")\n",
        "wedges, texts, autotexts = axes[0].pie(\n",
        "    gender_counts, labels=gender_counts.index, autopct='%1.1f%%',\n",
        "    colors=colors, startangle=140, wedgeprops={'edgecolor': 'black', 'linewidth': 1.2}, pctdistance=0.85)\n",
        "center_circle = plt.Circle((0, 0), 0.3, fc='white', edgecolor='black', linewidth=1.2)\n",
        "axes[0].add_artist(center_circle)\n",
        "axes[0].set_title(\"Распределение по полу\", fontsize=14, fontweight=\"bold\")\n",
        "\n",
        "sns.kdeplot(x='age', data=df, hue=\"gender\", fill=True, palette='husl', ax=axes[1])\n",
        "axes[1].set_xlabel(\"age\", fontsize=14, color='k')\n",
        "axes[1].set_ylabel(\"Плотность\", fontsize=14, color='k')\n",
        "\n",
        "plt.tight_layout()\n",
        "plt.show()"
      ],
      "metadata": {
        "id": "YoJdR6cLN8gY"
      },
      "execution_count": null,
      "outputs": []
    },
    {
      "cell_type": "code",
      "source": [
        "plt.figure(figsize=(10,5))\n",
        "sns.countplot(x=df[\"gender\"], hue=df[\"dep\"], order=[\"М\", \"Ж\"])\n",
        "plt.xlabel(\"Оценка\")\n",
        "plt.ylabel(\"Количество\")\n",
        "plt.legend(bbox_to_anchor=(1,1))\n",
        "plt.show()"
      ],
      "metadata": {
        "id": "0_FWAMX4PwW-"
      },
      "execution_count": null,
      "outputs": []
    },
    {
      "cell_type": "markdown",
      "source": [
        "**Распределение оценок**"
      ],
      "metadata": {
        "id": "B0XkQr4OwyEC"
      }
    },
    {
      "cell_type": "code",
      "source": [
        "plt.figure(figsize=(6, 6))\n",
        "sns.countplot(x=\"grade\", data=df, order=sorted(df[\"grade\"].unique()), palette=\"coolwarm\")\n",
        "plt.show()"
      ],
      "metadata": {
        "id": "yrcHN2j6wr4N"
      },
      "execution_count": null,
      "outputs": []
    },
    {
      "cell_type": "markdown",
      "source": [
        "**Лучшие факультеты по баллам**"
      ],
      "metadata": {
        "id": "CepViGGk0XZP"
      }
    },
    {
      "cell_type": "code",
      "source": [
        "best_departments = df.groupby(\"dep\", as_index=False)[\"total\"].mean().sort_values(by=\"total\", ascending=False)\n",
        "print(best_departments)"
      ],
      "metadata": {
        "id": "pJIbJWvxzz4u"
      },
      "execution_count": null,
      "outputs": []
    },
    {
      "cell_type": "code",
      "source": [
        "plt.figure(figsize=(12, 6))\n",
        "sns.barplot(x=best_departments[\"dep\"], y=best_departments[\"total\"], palette=\"viridis\")\n",
        "plt.xticks(rotation=45)\n",
        "plt.xlabel(\"Факультет\")\n",
        "plt.ylabel(\"Баллы\")\n",
        "plt.show()"
      ],
      "metadata": {
        "id": "7JM-SC770H3-"
      },
      "execution_count": null,
      "outputs": []
    },
    {
      "cell_type": "markdown",
      "source": [
        "**10 лучших студентов на каждом факультете**"
      ],
      "metadata": {
        "id": "e5sqfqcJ2o3H"
      }
    },
    {
      "cell_type": "code",
      "source": [
        "departments = df[\"dep\"].unique()\n",
        "\n",
        "for department in departments:\n",
        "    top_students = df[df[\"dep\"] == department].nlargest(10, \"total\")[[\"name\",\"fam\", \"total\"]]\n",
        "\n",
        "    print(f\"\\n 10 студентовn {department} факультета:\\n\")\n",
        "    print(top_students.to_string(index=False))\n",
        "    print(\"\\n\" + \"=\"*50)"
      ],
      "metadata": {
        "id": "qCs6Ol3U2qlz"
      },
      "execution_count": null,
      "outputs": []
    },
    {
      "cell_type": "markdown",
      "source": [
        "**Тепловая карта**"
      ],
      "metadata": {
        "id": "IQKkLvPN3VCd"
      }
    },
    {
      "cell_type": "code",
      "source": [
        "plt.figure(figsize=(10,6))\n",
        "corr_matrix = df.select_dtypes(include=[np.number]).corr()\n",
        "sns.heatmap(corr_matrix, annot=True, cmap=\"coolwarm\", fmt=\".2f\", linewidths=0.5)\n",
        "plt.show()"
      ],
      "metadata": {
        "id": "V_pui5GJ3YOe"
      },
      "execution_count": null,
      "outputs": []
    },
    {
      "cell_type": "markdown",
      "source": [
        "**Академическая успеваемость по полу**"
      ],
      "metadata": {
        "id": "IObd3U4kBtFx"
      }
    },
    {
      "cell_type": "code",
      "source": [
        "plt.figure(figsize=(6,4))\n",
        "gender_scores = df.groupby(\"gender\")[\"total\"].mean()\n",
        "sns.barplot(x=gender_scores.index, y=gender_scores.values, palette=\"viridis\")\n",
        "plt.xlabel(\"Пол\")\n",
        "plt.ylabel(\"Средний балл\")\n",
        "plt.show()"
      ],
      "metadata": {
        "id": "2ijSw5arBsDt"
      },
      "execution_count": null,
      "outputs": []
    },
    {
      "cell_type": "markdown",
      "source": [
        "**Влияет ли низкая посещаемость на результаты**"
      ],
      "metadata": {
        "id": "D3okqg0A8D9L"
      }
    },
    {
      "cell_type": "code",
      "source": [
        "math_students = df[df[\"dep\"] == \"Математика\"].copy()\n",
        "math_students[\"attendance\"] = math_students[\"attendance\"].isnull().astype(int)\n",
        "\n",
        "plt.figure(figsize=(8, 5))\n",
        "sns.boxplot(x=\"attendance\", y=\"total\", data=math_students)\n",
        "plt.xticks([0, 1], [\"Посещали\", \"Пропускали\"])\n",
        "plt.show()"
      ],
      "metadata": {
        "id": "-MZSO59B8Cs2"
      },
      "execution_count": null,
      "outputs": []
    },
    {
      "cell_type": "code",
      "source": [
        "plt.figure(figsize=(8, 5))\n",
        "sns.barplot(x=math_students[\"attendance\"], y=math_students[\"total\"], estimator=np.mean, errorbar=None)\n",
        "plt.xticks([0, 1], [\"Посещение\", \"Пропуски\"])\n",
        "plt.ylabel(\"Баллы\")\n",
        "plt.xlabel(\"Посещаемость\")\n",
        "plt.show()"
      ],
      "metadata": {
        "id": "dGWLCFez85Wm"
      },
      "execution_count": null,
      "outputs": []
    },
    {
      "cell_type": "markdown",
      "source": [
        "**Гистограмма распределения оценок студентов по разным элементам**"
      ],
      "metadata": {
        "id": "sNbCpNftAKC2"
      }
    },
    {
      "cell_type": "code",
      "source": [
        "score_columns = ['exam', 'final', 'avg', 'test', 'class', 'project', 'total']\n",
        "\n",
        "plt.figure(figsize=(12, 6))\n",
        "df[score_columns].hist(figsize=(12, 8), bins=20, edgecolor='black', layout=(2, 4))\n",
        "plt.suptitle(\"Распределение оценок студентов\", fontsize=14)\n",
        "plt.show()"
      ],
      "metadata": {
        "id": "K0NBl95hADES"
      },
      "execution_count": null,
      "outputs": []
    },
    {
      "cell_type": "code",
      "source": [
        "#boxplot\n",
        "plt.figure(figsize=(12, 6))\n",
        "df[score_columns].plot(kind=\"box\", subplots=True, layout=(2, 4), figsize=(12, 8))\n",
        "plt.suptitle(\"Boxplots of Student Scores\", fontsize=14)\n",
        "plt.show()"
      ],
      "metadata": {
        "id": "gXB41NKUAz5k"
      },
      "execution_count": null,
      "outputs": []
    },
    {
      "cell_type": "markdown",
      "source": [
        "**Анализ распределения оценок**"
      ],
      "metadata": {
        "id": "CxpRQW02Bt3S"
      }
    },
    {
      "cell_type": "code",
      "source": [
        "plt.figure(figsize=(8,5))\n",
        "sns.histplot(df[\"total\"], bins=20, kde=True, color=\"royalblue\")\n",
        "plt.xlabel(\"total\")\n",
        "plt.ylabel(\"число студентов\")\n",
        "plt.show()"
      ],
      "metadata": {
        "id": "x9ioaes3BY7S"
      },
      "execution_count": null,
      "outputs": []
    },
    {
      "cell_type": "markdown",
      "source": [
        "**Уровень стресса и продолжительность сна**"
      ],
      "metadata": {
        "id": "iWYz145cxoR3"
      }
    },
    {
      "cell_type": "code",
      "source": [
        "plt.figure(figsize=(10, 6))\n",
        "sns.boxplot(x=\"stress\", y=\"sleep\", data=df, palette=\"viridis\")\n",
        "plt.show()"
      ],
      "metadata": {
        "id": "NN1QFvukxfAx"
      },
      "execution_count": null,
      "outputs": []
    },
    {
      "cell_type": "markdown",
      "source": [
        "**Внеклассные занятия и общий балл**"
      ],
      "metadata": {
        "id": "9G8HZISKyczs"
      }
    },
    {
      "cell_type": "code",
      "source": [
        "plt.figure(figsize=(10, 6))\n",
        "sns.boxplot(x=\"active\", y=\"total\", data=df, palette=\"cool\")\n",
        "plt.show()"
      ],
      "metadata": {
        "id": "PSgTQjN7yGEt"
      },
      "execution_count": null,
      "outputs": []
    },
    {
      "cell_type": "markdown",
      "source": [
        "**Образование родителей и оценка**"
      ],
      "metadata": {
        "id": "XMkkdv2Ny5nN"
      }
    },
    {
      "cell_type": "code",
      "source": [
        "plt.figure(figsize=(10, 6))\n",
        "sns.boxplot(x=\"parent_edu\", y=\"total\", data=df, palette=\"viridis\")\n",
        "plt.show()"
      ],
      "metadata": {
        "id": "0IEGdj7ly-8m"
      },
      "execution_count": null,
      "outputs": []
    },
    {
      "cell_type": "markdown",
      "source": [
        "**Влияет ли образование родителей на итоговые баллы?**"
      ],
      "metadata": {
        "id": "bFuzItJAG1wb"
      }
    },
    {
      "cell_type": "code",
      "source": [
        "plt.figure(figsize=(10,5))\n",
        "sns.countplot(x=df[\"grade\"], hue=df[\"parent_edu\"], order=[\"A\", \"B\", \"C\", \"D\", \"F\"])\n",
        "plt.xlabel(\"Оценка\")\n",
        "plt.ylabel(\"Количество\")\n",
        "plt.legend(bbox_to_anchor=(1,1))\n",
        "plt.show()"
      ],
      "metadata": {
        "id": "k_z8X69OHM59"
      },
      "execution_count": null,
      "outputs": []
    },
    {
      "cell_type": "markdown",
      "source": [
        "**Влияет ли более высокий уровень образования родителей на более высокую успеваемость учащихся?**"
      ],
      "metadata": {
        "id": "nvcqI1J2Gy3N"
      }
    },
    {
      "cell_type": "code",
      "source": [
        "plt.figure(figsize=(10,5))\n",
        "sns.boxplot(x=df[\"parent_edu\"], y=df[\"total\"])\n",
        "plt.xticks(rotation=45)\n",
        "plt.xlabel(\"Образование родителей\")\n",
        "plt.ylabel(\"Баллы\")\n",
        "plt.show()"
      ],
      "metadata": {
        "id": "RXyXg9bWG4E3"
      },
      "execution_count": null,
      "outputs": []
    },
    {
      "cell_type": "markdown",
      "source": [
        "**Доход семьи**"
      ],
      "metadata": {
        "id": "Y86Vx4lxxRec"
      }
    },
    {
      "cell_type": "code",
      "source": [
        "income_counts = df[\"income\"].value_counts()\n",
        "\n",
        "\n",
        "plt.figure(figsize=(10, 6))\n",
        "plt.pie(income_counts, labels=income_counts.index, autopct='%1.1f%%', startangle=140, colors=plt.cm.Paired.colors)\n",
        "plt.show()"
      ],
      "metadata": {
        "id": "JCHsKBRRxUal"
      },
      "execution_count": null,
      "outputs": []
    },
    {
      "cell_type": "markdown",
      "source": [
        "**Семейный доход и академическая успеваемость**"
      ],
      "metadata": {
        "id": "6c66XfK1IOVt"
      }
    },
    {
      "cell_type": "code",
      "source": [
        "plt.figure(figsize=(10, 5))\n",
        "sns.countplot(data=df, x=\"income\", hue=\"grade\", palette=\"viridis\")\n",
        "plt.xlabel(\"Доход\")\n",
        "plt.ylabel(\"Число студентов\")\n",
        "plt.legend(title=\"Оценка\")\n",
        "plt.xticks(rotation=45)\n",
        "plt.show()"
      ],
      "metadata": {
        "id": "Lb7UMpT4IQCB"
      },
      "execution_count": null,
      "outputs": []
    },
    {
      "cell_type": "markdown",
      "source": [
        "**Как семейный доход связан с участием во внеклассных мероприятиях?**"
      ],
      "metadata": {
        "id": "oR0PeRbujila"
      }
    },
    {
      "cell_type": "code",
      "source": [
        "ct = pd.crosstab(df['income'], df['active'])\n",
        "print(ct)"
      ],
      "metadata": {
        "id": "gUDsroMaizva"
      },
      "execution_count": null,
      "outputs": []
    },
    {
      "cell_type": "code",
      "source": [
        "ct.plot(kind='bar', stacked=True)\n",
        "plt.title('Участие во внеклассных мероприятиях по уровню дохода')\n",
        "plt.xlabel('Уровень дохода')\n",
        "plt.ylabel('Количество студентов')\n",
        "plt.xticks(rotation=0)\n",
        "plt.legend(title='Внеклассные занятия')\n",
        "plt.show()"
      ],
      "metadata": {
        "id": "_u4F7y-ei9sS"
      },
      "execution_count": null,
      "outputs": []
    },
    {
      "cell_type": "code",
      "source": [
        "ct_pct = pd.crosstab(df['income'], df['active'], normalize='index') * 100\n",
        "ct_pct.plot(kind='bar', stacked=True)\n",
        "plt.title('Процент студентов, участвующих во внеклассных мероприятиях')\n",
        "plt.xlabel('Уровень дохода')\n",
        "plt.ylabel('Процент (%)')\n",
        "plt.xticks(rotation=0)\n",
        "plt.legend(title='Внеклассные занятия')\n",
        "plt.show()"
      ],
      "metadata": {
        "id": "NyvPfPzejIF0"
      },
      "execution_count": null,
      "outputs": []
    },
    {
      "cell_type": "markdown",
      "source": [
        "**Учебные часы и академическая успеваемость**"
      ],
      "metadata": {
        "id": "HXb16QVfCpvY"
      }
    },
    {
      "cell_type": "code",
      "source": [
        "plt.figure(figsize=(8,5))\n",
        "sns.scatterplot(x=df[\"study_hours\"], y=df[\"total\"], alpha=0.6)\n",
        "plt.xlabel(\"Учебные часы в неделю\")\n",
        "plt.ylabel(\"Баллы\")\n",
        "plt.show()"
      ],
      "metadata": {
        "id": "d9gaE2e2Coqb"
      },
      "execution_count": null,
      "outputs": []
    },
    {
      "cell_type": "code",
      "source": [
        "corr = df[\"study_hours\"].corr(df[\"total\"])\n",
        "print(f\"Корреляция: {corr:.2f}\")"
      ],
      "metadata": {
        "id": "dHZSDlNwDOf8"
      },
      "execution_count": null,
      "outputs": []
    },
    {
      "cell_type": "code",
      "source": [
        "score_columns = ['exam', 'final', 'avg', 'test', 'class', 'project']\n",
        "\n",
        "plt.figure(figsize=(12,6))\n",
        "for i, col in enumerate(score_columns, 1):\n",
        "    plt.subplot(2,3,i)\n",
        "    sns.scatterplot(x=df[\"study_hours\"], y=df[col], alpha=0.5)\n",
        "    plt.title(f\"Study Hours vs. {col}\")\n",
        "    plt.xlabel(\"Study Hours per Week\")\n",
        "    plt.ylabel(col)\n",
        "\n",
        "plt.tight_layout()\n",
        "plt.show()"
      ],
      "metadata": {
        "id": "JmwB1buDDcrv"
      },
      "execution_count": null,
      "outputs": []
    },
    {
      "cell_type": "code",
      "source": [
        "plt.figure(figsize=(8,5))\n",
        "sns.boxplot(x=df[\"grade\"], y=df[\"study_hours\"])\n",
        "plt.xlabel(\"grade\")\n",
        "plt.ylabel(\"Study Hours per Week\")\n",
        "plt.show()"
      ],
      "metadata": {
        "id": "kX-GIfxqDw7F"
      },
      "execution_count": null,
      "outputs": []
    },
    {
      "cell_type": "markdown",
      "source": [
        "**Часы сна и академическая успеваемость**"
      ],
      "metadata": {
        "id": "uXvBFyUaFBNV"
      }
    },
    {
      "cell_type": "code",
      "source": [
        "plt.figure(figsize=(12,6))\n",
        "for i, col in enumerate(score_columns, 1):\n",
        "    plt.subplot(2,3,i)\n",
        "    sns.scatterplot(x=df[\"sleep\"], y=df[col], alpha=0.5)\n",
        "    plt.title(f\"Sleep Hours vs. {col}\")\n",
        "    plt.xlabel(\"Часов сна\")\n",
        "    plt.ylabel(col)\n",
        "\n",
        "plt.tight_layout()\n",
        "plt.show()"
      ],
      "metadata": {
        "id": "29KJUG8gFAd3"
      },
      "execution_count": null,
      "outputs": []
    },
    {
      "cell_type": "code",
      "source": [
        "avg_sleep = df.groupby(\"grade\")[\"sleep\"].mean().reset_index()\n",
        "\n",
        "plt.figure(figsize=(8,5))\n",
        "sns.barplot(x=\"grade\", y=\"sleep\", data=avg_sleep)\n",
        "plt.xlabel(\"Оценка\")\n",
        "plt.ylabel(\"Среднее часов сна\")\n",
        "plt.show()"
      ],
      "metadata": {
        "id": "bHjI6e2IFTqS"
      },
      "execution_count": null,
      "outputs": []
    },
    {
      "cell_type": "code",
      "source": [
        "plt.figure(figsize=(8,5))\n",
        "sns.scatterplot(x=df[\"attendance\"], y=df[\"total\"], alpha=0.5)\n",
        "plt.xlabel(\"Посещаемость\")\n",
        "plt.ylabel(\"Баллы\")\n",
        "plt.show()"
      ],
      "metadata": {
        "id": "SiWkn7ZqF66k"
      },
      "execution_count": null,
      "outputs": []
    },
    {
      "cell_type": "code",
      "source": [
        "df[\"Attendance_Level\"] = pd.cut(\n",
        "    df[\"attendance\"],\n",
        "    bins=[0, 50, 80, 100],\n",
        "    labels=[\"Low\", \"Medium\", \"High\"]\n",
        ")"
      ],
      "metadata": {
        "id": "CFNVZp26GLl-"
      },
      "execution_count": null,
      "outputs": []
    },
    {
      "cell_type": "code",
      "source": [
        "plt.figure(figsize=(8,5))\n",
        "sns.countplot(x=df[\"grade\"], hue=df[\"Attendance_Level\"])\n",
        "plt.xlabel(\"Оценка\")\n",
        "plt.ylabel(\"Уровень\")\n",
        "plt.show()"
      ],
      "metadata": {
        "id": "Y8GFF9CNGTPy"
      },
      "execution_count": null,
      "outputs": []
    },
    {
      "cell_type": "markdown",
      "source": [
        "**Доступ в Интернет дома и академическая успеваемость**"
      ],
      "metadata": {
        "id": "PYGi6oyRIoS8"
      }
    },
    {
      "cell_type": "code",
      "source": [
        "plt.figure(figsize=(8, 5))\n",
        "\n",
        "sns.countplot(data=df, x=\"internet\", palette=\"coolwarm\")\n",
        "plt.xlabel(\"Доступ к интернету\")\n",
        "plt.ylabel(\"Число студентов\")\n",
        "plt.show()"
      ],
      "metadata": {
        "id": "hHzImzD8IqgG"
      },
      "execution_count": null,
      "outputs": []
    },
    {
      "cell_type": "code",
      "source": [
        "# Percentage stacked bar chart for grade distribution\n",
        "plt.figure(figsize=(10, 6))\n",
        "internet_grade_counts = df.groupby([\"internet\", \"grade\"]).size().unstack()\n",
        "internet_grade_counts = internet_grade_counts.div(internet_grade_counts.sum(axis=1), axis=0) * 100  # Convert to percentages\n",
        "\n",
        "internet_grade_counts.plot(kind=\"bar\", stacked=True, colormap=\"coolwarm\", figsize=(10,6))\n",
        "plt.xlabel(\"Доступ к интернету\")\n",
        "plt.ylabel(\"Процент студентов\")\n",
        "plt.legend(title=\"Оценка\")\n",
        "plt.xticks(rotation=0)\n",
        "plt.show()"
      ],
      "metadata": {
        "id": "ITFQQYA9I8GA"
      },
      "execution_count": null,
      "outputs": []
    },
    {
      "cell_type": "code",
      "source": [
        "plt.figure(figsize=(10, 6))\n",
        "sns.histplot(data=df, x=\"total\", hue=\"internet\", bins=30, kde=True, palette=\"coolwarm\", alpha=0.7)\n",
        "plt.xlabel(\"total\")\n",
        "plt.ylabel(\"Число студентов\")\n",
        "plt.show()"
      ],
      "metadata": {
        "id": "gKuP7Gd3JWCg"
      },
      "execution_count": null,
      "outputs": []
    },
    {
      "cell_type": "code",
      "source": [
        "plt.figure(figsize=(8, 6))\n",
        "sns.violinplot(data=df, x=\"internet\", y=\"total\", palette=\"coolwarm\")\n",
        "plt.xlabel(\"Интернет\")\n",
        "plt.ylabel(\"Баллы\")\n",
        "plt.show()"
      ],
      "metadata": {
        "id": "sdmq2t3cJlh3"
      },
      "execution_count": null,
      "outputs": []
    },
    {
      "cell_type": "code",
      "source": [
        "plt.figure(figsize=(8, 6))\n",
        "sns.boxplot(data=df, x=\"internet\", y=\"study_hours\", palette=\"coolwarm\")\n",
        "plt.xlabel(\"Интернет\")\n",
        "plt.ylabel(\"Часы учебы в неделю\")\n",
        "plt.show()"
      ],
      "metadata": {
        "id": "HUcsAZNOKiRk"
      },
      "execution_count": null,
      "outputs": []
    },
    {
      "cell_type": "markdown",
      "source": [
        "✅ Доступ в интернет не оказывает существенного влияния на оценки — распределение баллов в обеих группах схожее.\n",
        "✅ Существенной разницы в учебных часах между учащимися с доступом в интернет и без него нет.\n",
        "✅ Общие баллы распределены равномерно в обеих группах, что означает, что доступ в интернет не является значимым предиктором успеваемости.\n",
        "\n",
        "Мы проанализировали доступ в интернет с помощью трёх различных графиков:\n",
        "1️⃣ Гистограмма: показывает распределение оценок для учащихся с доступом в интернет и без него.\n",
        "2️⃣ Диаграмма «скрипка»: показывает распределение общих баллов для обеих групп.\n",
        "3️⃣ Диаграмма ящиков: сравнивает количество учебных часов в неделю в зависимости от доступа в интернет."
      ],
      "metadata": {
        "id": "q2xpgXRSK9BW"
      }
    },
    {
      "cell_type": "markdown",
      "source": [
        "**Внеклассная деятельность и академическая успеваемость**"
      ],
      "metadata": {
        "id": "7_idukdRLJzG"
      }
    },
    {
      "cell_type": "code",
      "source": [
        "plt.figure(figsize=(10, 6))\n",
        "sns.histplot(data=df, x=\"total\", hue=\"active\", bins=30, kde=True, palette=\"coolwarm\", alpha=0.7)\n",
        "plt.xlabel(\"Баллы\")\n",
        "plt.ylabel(\"Число студентов\")\n",
        "plt.show()"
      ],
      "metadata": {
        "id": "IlHGChMgK8W4"
      },
      "execution_count": null,
      "outputs": []
    },
    {
      "cell_type": "code",
      "source": [
        "plt.figure(figsize=(8, 6))\n",
        "sns.barplot(data=df, x=\"active\", y=\"total\", estimator=np.mean, palette=\"coolwarm\")\n",
        "plt.xlabel(\"Участие во внеклассных мероприятиях\")\n",
        "plt.ylabel(\"Средний общий балл\")\n",
        "plt.show()"
      ],
      "metadata": {
        "id": "-n8UsuZuLhmY"
      },
      "execution_count": null,
      "outputs": []
    },
    {
      "cell_type": "markdown",
      "source": [
        "Ключевые выводы\n",
        "✅ Учащиеся, занимающиеся внеклассной деятельностью, как правило, имеют несколько более высокий средний общий балл.\n",
        "✅ Разница незначительна, что говорит о том, что другие факторы в большей степени влияют на академическую успеваемость."
      ],
      "metadata": {
        "id": "q7oVsBqnMBEX"
      }
    },
    {
      "cell_type": "markdown",
      "source": [
        "**Уровень стресса и оценка**"
      ],
      "metadata": {
        "id": "soPaJrkPYErz"
      }
    },
    {
      "cell_type": "code",
      "source": [
        "avg_stress = df.groupby(\"grade\")[\"stress\"].mean().reset_index()\n",
        "\n",
        "plt.figure(figsize=(8,5))\n",
        "sns.barplot(x=\"grade\", y=\"stress\", data=avg_stress)\n",
        "plt.xlabel(\"Grade\")\n",
        "plt.ylabel(\"Average Stress Level (1-10)\")\n",
        "plt.show()"
      ],
      "metadata": {
        "id": "3gzLnczZEsYI"
      },
      "execution_count": null,
      "outputs": []
    },
    {
      "cell_type": "markdown",
      "source": [
        "**Режим сна и академическая успеваемость**"
      ],
      "metadata": {
        "id": "5c44XKXXMKz0"
      }
    },
    {
      "cell_type": "code",
      "source": [
        "plt.figure(figsize=(8, 6))\n",
        "sns.scatterplot(data=df, x=\"sleep\", y=\"total\", alpha=0.5, color=\"blue\")\n",
        "plt.xlabel(\"sleep\")\n",
        "plt.ylabel(\"total\")\n",
        "plt.show()"
      ],
      "metadata": {
        "id": "ZHDrNHZOMMkr"
      },
      "execution_count": null,
      "outputs": []
    },
    {
      "cell_type": "markdown",
      "source": [
        "Ключевые выводы\n",
        "\n",
        "✅ Учащиеся, которые спят 6–8 часов, как правило, демонстрируют более высокие результаты.\n",
        "\n",
        "✅ Слишком короткий (<5 часов) или слишком длинный (>9 часов) сон связан с немного более низкими баллами.\n",
        "\n",
        "✅ Однако эта связь слабая, то есть сон — лишь один из многих факторов, влияющих на успеваемость.\n",
        "\n",
        "\n",
        "📊 Диаграмма рассеяния: общий балл против часов сна. Эта диаграмма рассеяния визуализирует связь между часами сна за ночь и общими академическими баллами."
      ],
      "metadata": {
        "id": "ZBhczxh-M1Lf"
      }
    },
    {
      "cell_type": "code",
      "source": [
        "df[['study_hours', 'stress', 'sleep']].corr()"
      ],
      "metadata": {
        "id": "V6Sz5QCngU1T"
      },
      "execution_count": null,
      "outputs": []
    },
    {
      "cell_type": "markdown",
      "source": [
        "**Разобъем студентов на группы по количеству учебных часов и посмотрим, как меняются стресс и сон.**"
      ],
      "metadata": {
        "id": "fGXzCzSWggg3"
      }
    },
    {
      "cell_type": "code",
      "source": [
        "# Создание категорий по учебным часам\n",
        "bins = [0, 10, 20, 30, 40, 50]\n",
        "labels = ['0-10', '10-20', '20-30', '30-40', '40+']\n",
        "df['учебные_часы_группы'] = pd.cut(df['study_hours'], bins=bins, labels=labels)\n",
        "\n",
        "# Boxplot: стресс по группам учебных часов\n",
        "sns.boxplot(x='учебные_часы_группы', y='stress', data=df)\n",
        "plt.title('Уровень стресса по группам учебных часов')\n",
        "plt.show()\n",
        "\n",
        "# То же самое для сна\n",
        "sns.boxplot(x='учебные_часы_группы', y='sleep', data=df)\n",
        "plt.title('Количество сна по группам учебных часов')\n",
        "plt.show()"
      ],
      "metadata": {
        "id": "QGFdZFVpgfwQ"
      },
      "execution_count": null,
      "outputs": []
    },
    {
      "cell_type": "markdown",
      "source": [
        "**Образование родителей и семейный доход**"
      ],
      "metadata": {
        "id": "b1OX8s7W9huW"
      }
    },
    {
      "cell_type": "markdown",
      "source": [
        "Мы изучили, встречаются ли отсутствующие данные чаще в группах с определенным доходом, чтобы проверить, реже ли семьи с низким доходом сообщают об уровне своего образования."
      ],
      "metadata": {
        "id": "khzJepne-Om6"
      }
    },
    {
      "cell_type": "code",
      "source": [
        "# @title Текст заголовка по умолчанию\n",
        "plt.figure(figsize=(10, 5))\n",
        "sns.barplot(x=df[\"income\"], y=df[\"parent_edu\"].isnull(), estimator=np.mean)\n",
        "plt.title(\"Missing Parent Education Level by Family Income Level\")\n",
        "plt.xlabel(\"Доход\")\n",
        "plt.ylabel(\"Доля пропущенных значений\")\n",
        "plt.show()"
      ],
      "metadata": {
        "cellView": "form",
        "id": "1ub0IbYi9dRH"
      },
      "execution_count": null,
      "outputs": []
    },
    {
      "cell_type": "markdown",
      "source": [
        "**Отсутствие информации об образовании родителей и доступ к Интернету**"
      ],
      "metadata": {
        "id": "FlBWGVTu-cA0"
      }
    },
    {
      "cell_type": "markdown",
      "source": [
        "Мы проанализировали, есть ли у учащихся, не имеющих доступа к Интернету дома, тенденция к отсутствию данных об образовании родителей, поскольку это может указывать на связь с социально-экономическим положением."
      ],
      "metadata": {
        "id": "vmrsASAL-cfQ"
      }
    },
    {
      "cell_type": "code",
      "source": [
        "plt.figure(figsize=(6, 4))\n",
        "sns.barplot(\n",
        "    x=df[\"internet\"],y=df[\"parent_edu\"].isnull(), estimator=np.mean)\n",
        "plt.xlabel(\"Наличие интернета\")\n",
        "plt.ylabel(\"(%) Значения уровня образования родителей\")\n",
        "plt.show()"
      ],
      "metadata": {
        "id": "EDdF7q3v-m0T"
      },
      "execution_count": null,
      "outputs": []
    },
    {
      "cell_type": "markdown",
      "source": [
        "**Влияет ли отсутствие обучения родителей на успеваемость учащихся?**"
      ],
      "metadata": {
        "id": "SbQD6uFJ_GYl"
      }
    },
    {
      "cell_type": "code",
      "source": [
        "plt.figure(figsize=(8, 5))\n",
        "sns.boxplot(x=df[\"parent_edu\"].isnull(), y=df[\"total\"])\n",
        "plt.xticks([0, 1], [\"Yes\", \"Unknow\"])\n",
        "plt.ylabel(\"Баллы\")\n",
        "plt.show()"
      ],
      "metadata": {
        "id": "1LpWCG7e_Gyg"
      },
      "execution_count": null,
      "outputs": []
    },
    {
      "cell_type": "code",
      "source": [
        "# Уровень стресса vs учебные часы\n",
        "sns.scatterplot(x='study_hours', y='stress', data=df)\n",
        "plt.title('Учебные часы vs Уровень стресса')\n",
        "plt.show()\n",
        "\n",
        "# Часы сна vs учебные часы\n",
        "sns.scatterplot(x='study_hours', y='sleep', data=df)\n",
        "plt.title('Учебные часы vs Количество сна')\n",
        "plt.show()"
      ],
      "metadata": {
        "id": "kGd2jSZGf-wa"
      },
      "execution_count": null,
      "outputs": []
    },
    {
      "cell_type": "code",
      "source": [
        "from scipy.stats import chi2_contingency\n",
        "\n",
        "chi2, p, dof, expected = chi2_contingency(ct)\n",
        "print(f\"p-value: {p}\")"
      ],
      "metadata": {
        "id": "hg_7AxU6jsMX"
      },
      "execution_count": null,
      "outputs": []
    }
  ]
}